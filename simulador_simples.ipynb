{
 "cells": [
  {
   "cell_type": "markdown",
   "metadata": {},
   "source": [
    "# Simulador de Energia Solar - Simples\n",
    "\n",
    "Execute todas as células em ordem (Shift+Enter)"
   ]
  },
  {
   "cell_type": "code",
   "execution_count": null,
   "metadata": {},
   "outputs": [],
   "source": [
    "import pandas as pd\n",
    "import ipywidgets as widgets\n",
    "from IPython.display import display, HTML, clear_output\n",
    "import matplotlib.pyplot as plt\n",
    "\n",
    "from main import simular_solar\n",
    "\n",
    "%matplotlib inline\n",
    "print(\"✅ Importações carregadas!\")"
   ]
  },
  {
   "cell_type": "code",
   "execution_count": null,
   "metadata": {},
   "outputs": [],
   "source": [
    "# Criar widgets\n",
    "parcela = widgets.FloatText(value=750, description='Parcela (R$):')\n",
    "meses_financ = widgets.IntSlider(value=72, min=12, max=180, step=6, description='Meses financ.:')\n",
    "anos = widgets.IntSlider(value=10, min=1, max=25, description='Anos:')\n",
    "reajuste = widgets.FloatSlider(value=0.08, min=0, max=0.2, step=0.01, description='Reajuste:', readout_format='.0%')\n",
    "sazonalidade = widgets.Checkbox(value=False, description='Sazonalidade')\n",
    "\n",
    "botao = widgets.Button(description='🚀 Simular', button_style='success')\n",
    "\n",
    "display(widgets.VBox([parcela, meses_financ, anos, reajuste, sazonalidade, botao]))\n",
    "print(\"✅ Widgets criados! Prossiga para a próxima célula.\")"
   ]
  },
  {
   "cell_type": "code",
   "execution_count": null,
   "metadata": {},
   "outputs": [],
   "source": [
    "# Função que será executada ao clicar no botão\n",
    "def simular(b):\n",
    "    clear_output(wait=True)\n",
    "    \n",
    "    # Re-exibir widgets\n",
    "    display(widgets.VBox([parcela, meses_financ, anos, reajuste, sazonalidade, botao]))\n",
    "    \n",
    "    print(\"\\n🔄 Executando simulação...\\n\")\n",
    "    \n",
    "    # Executar\n",
    "    df = simular_solar(\n",
    "        valor_parcela=parcela.value,\n",
    "        meses_financiamento=meses_financ.value,\n",
    "        anos_simulacao=anos.value,\n",
    "        reajuste_anual=reajuste.value,\n",
    "        usar_sazonalidade=sazonalidade.value\n",
    "    )\n",
    "    \n",
    "    # Resumo\n",
    "    print(\"✅ Simulação concluída!\\n\")\n",
    "    print(\"=\"*60)\n",
    "    print(f\"💰 Fluxo líquido acumulado: R$ {df['Acumulado (R$)'].iloc[-1]:,.2f}\")\n",
    "    print(f\"📈 Total economizado: R$ {df['Economia (R$)'].sum():,.2f}\")\n",
    "    print(f\"💳 Total pago: R$ {df['Parcela (R$)'].sum():,.2f}\")\n",
    "    print(\"=\"*60)\n",
    "    \n",
    "    # Gráfico\n",
    "    fig, ax = plt.subplots(figsize=(12, 5))\n",
    "    ax.plot(df['Mês'], df['Acumulado (R$)'], linewidth=2, color='green')\n",
    "    ax.axhline(y=0, color='red', linestyle='--')\n",
    "    ax.fill_between(df['Mês'], df['Acumulado (R$)'], 0, \n",
    "                    where=(df['Acumulado (R$)'] >= 0), alpha=0.3, color='green')\n",
    "    ax.fill_between(df['Mês'], df['Acumulado (R$)'], 0, \n",
    "                    where=(df['Acumulado (R$)'] < 0), alpha=0.3, color='red')\n",
    "    ax.set_xlabel('Mês')\n",
    "    ax.set_ylabel('R$')\n",
    "    ax.set_title('Fluxo Líquido Acumulado')\n",
    "    ax.grid(True, alpha=0.3)\n",
    "    plt.tight_layout()\n",
    "    plt.show()\n",
    "    \n",
    "    # Tabela\n",
    "    print(\"\\n📋 Tabela completa:\")\n",
    "    display(df)\n",
    "\n",
    "botao.on_click(simular)\n",
    "print(\"✅ Tudo pronto! Agora clique no botão '🚀 Simular' acima.\")"
   ]
  }
 ],
 "metadata": {
  "kernelspec": {
   "display_name": "Python 3",
   "language": "python",
   "name": "python3"
  },
  "language_info": {
   "name": "python",
   "version": "3.8.0"
  }
 },
 "nbformat": 4,
 "nbformat_minor": 4
}
